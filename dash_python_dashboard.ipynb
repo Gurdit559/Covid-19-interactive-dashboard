{
 "cells": [
  {
   "cell_type": "code",
   "execution_count": 1,
   "metadata": {},
   "outputs": [],
   "source": [
    "# note: all individual plotly plots are not run locally but on the server\n",
    "\n",
    "\n",
    "import pandas as pd\n",
    "import matplotlib.pyplot as plt\n",
    "import seaborn as sns\n",
    "import plotly.express as px\n",
    "import plotly.io as pio\n",
    "pio.renderers.default=\"browser\"\n",
    "import plotly.graph_objects as go\n"
   ]
  },
  {
   "cell_type": "code",
   "execution_count": 2,
   "metadata": {},
   "outputs": [],
   "source": [
    "import dash\n",
    "from dash.dependencies import Input, Output\n",
    "import dash_core_components as dcc\n",
    "import dash_html_components as html\n",
    "import dash_bootstrap_components as dbc"
   ]
  },
  {
   "cell_type": "code",
   "execution_count": 3,
   "metadata": {},
   "outputs": [],
   "source": [
    "df=pd.read_csv(\"https://raw.githubusercontent.com/CSSEGISandData/COVID-19/web-data/data/cases_country.csv\")"
   ]
  },
  {
   "cell_type": "code",
   "execution_count": 4,
   "metadata": {},
   "outputs": [
    {
     "data": {
      "text/html": [
       "<div>\n",
       "<style scoped>\n",
       "    .dataframe tbody tr th:only-of-type {\n",
       "        vertical-align: middle;\n",
       "    }\n",
       "\n",
       "    .dataframe tbody tr th {\n",
       "        vertical-align: top;\n",
       "    }\n",
       "\n",
       "    .dataframe thead th {\n",
       "        text-align: right;\n",
       "    }\n",
       "</style>\n",
       "<table border=\"1\" class=\"dataframe\">\n",
       "  <thead>\n",
       "    <tr style=\"text-align: right;\">\n",
       "      <th></th>\n",
       "      <th>Country_Region</th>\n",
       "      <th>Last_Update</th>\n",
       "      <th>Lat</th>\n",
       "      <th>Long_</th>\n",
       "      <th>Confirmed</th>\n",
       "      <th>Deaths</th>\n",
       "      <th>Recovered</th>\n",
       "      <th>Active</th>\n",
       "      <th>Incident_Rate</th>\n",
       "      <th>People_Tested</th>\n",
       "      <th>People_Hospitalized</th>\n",
       "      <th>Mortality_Rate</th>\n",
       "      <th>UID</th>\n",
       "      <th>ISO3</th>\n",
       "    </tr>\n",
       "  </thead>\n",
       "  <tbody>\n",
       "    <tr>\n",
       "      <th>0</th>\n",
       "      <td>Afghanistan</td>\n",
       "      <td>2021-01-14 11:21:58</td>\n",
       "      <td>33.93911</td>\n",
       "      <td>67.709953</td>\n",
       "      <td>53584.0</td>\n",
       "      <td>2301.0</td>\n",
       "      <td>45105.0</td>\n",
       "      <td>6178.0</td>\n",
       "      <td>137.647787</td>\n",
       "      <td>NaN</td>\n",
       "      <td>NaN</td>\n",
       "      <td>4.294192</td>\n",
       "      <td>4</td>\n",
       "      <td>AFG</td>\n",
       "    </tr>\n",
       "    <tr>\n",
       "      <th>1</th>\n",
       "      <td>Albania</td>\n",
       "      <td>2021-01-14 11:21:58</td>\n",
       "      <td>41.15330</td>\n",
       "      <td>20.168300</td>\n",
       "      <td>65334.0</td>\n",
       "      <td>1256.0</td>\n",
       "      <td>38860.0</td>\n",
       "      <td>25218.0</td>\n",
       "      <td>2270.275905</td>\n",
       "      <td>NaN</td>\n",
       "      <td>NaN</td>\n",
       "      <td>1.922429</td>\n",
       "      <td>8</td>\n",
       "      <td>ALB</td>\n",
       "    </tr>\n",
       "  </tbody>\n",
       "</table>\n",
       "</div>"
      ],
      "text/plain": [
       "  Country_Region          Last_Update       Lat      Long_  Confirmed  Deaths  \\\n",
       "0    Afghanistan  2021-01-14 11:21:58  33.93911  67.709953    53584.0  2301.0   \n",
       "1        Albania  2021-01-14 11:21:58  41.15330  20.168300    65334.0  1256.0   \n",
       "\n",
       "   Recovered   Active  Incident_Rate  People_Tested  People_Hospitalized  \\\n",
       "0    45105.0   6178.0     137.647787            NaN                  NaN   \n",
       "1    38860.0  25218.0    2270.275905            NaN                  NaN   \n",
       "\n",
       "   Mortality_Rate  UID ISO3  \n",
       "0        4.294192    4  AFG  \n",
       "1        1.922429    8  ALB  "
      ]
     },
     "execution_count": 4,
     "metadata": {},
     "output_type": "execute_result"
    }
   ],
   "source": [
    "df.head(2)"
   ]
  },
  {
   "cell_type": "code",
   "execution_count": 5,
   "metadata": {},
   "outputs": [
    {
     "data": {
      "text/html": [
       "<div>\n",
       "<style scoped>\n",
       "    .dataframe tbody tr th:only-of-type {\n",
       "        vertical-align: middle;\n",
       "    }\n",
       "\n",
       "    .dataframe tbody tr th {\n",
       "        vertical-align: top;\n",
       "    }\n",
       "\n",
       "    .dataframe thead th {\n",
       "        text-align: right;\n",
       "    }\n",
       "</style>\n",
       "<table border=\"1\" class=\"dataframe\">\n",
       "  <thead>\n",
       "    <tr style=\"text-align: right;\">\n",
       "      <th></th>\n",
       "      <th>Province/State</th>\n",
       "      <th>Country/Region</th>\n",
       "      <th>Lat</th>\n",
       "      <th>Long</th>\n",
       "      <th>1/22/20</th>\n",
       "      <th>1/23/20</th>\n",
       "      <th>1/24/20</th>\n",
       "      <th>1/25/20</th>\n",
       "      <th>1/26/20</th>\n",
       "      <th>1/27/20</th>\n",
       "      <th>...</th>\n",
       "      <th>1/4/21</th>\n",
       "      <th>1/5/21</th>\n",
       "      <th>1/6/21</th>\n",
       "      <th>1/7/21</th>\n",
       "      <th>1/8/21</th>\n",
       "      <th>1/9/21</th>\n",
       "      <th>1/10/21</th>\n",
       "      <th>1/11/21</th>\n",
       "      <th>1/12/21</th>\n",
       "      <th>1/13/21</th>\n",
       "    </tr>\n",
       "  </thead>\n",
       "  <tbody>\n",
       "    <tr>\n",
       "      <th>0</th>\n",
       "      <td>NaN</td>\n",
       "      <td>Afghanistan</td>\n",
       "      <td>33.93911</td>\n",
       "      <td>67.709953</td>\n",
       "      <td>0</td>\n",
       "      <td>0</td>\n",
       "      <td>0</td>\n",
       "      <td>0</td>\n",
       "      <td>0</td>\n",
       "      <td>0</td>\n",
       "      <td>...</td>\n",
       "      <td>2237</td>\n",
       "      <td>2244</td>\n",
       "      <td>2244</td>\n",
       "      <td>2253</td>\n",
       "      <td>2257</td>\n",
       "      <td>2264</td>\n",
       "      <td>2277</td>\n",
       "      <td>2288</td>\n",
       "      <td>2301</td>\n",
       "      <td>2301</td>\n",
       "    </tr>\n",
       "    <tr>\n",
       "      <th>1</th>\n",
       "      <td>NaN</td>\n",
       "      <td>Albania</td>\n",
       "      <td>41.15330</td>\n",
       "      <td>20.168300</td>\n",
       "      <td>0</td>\n",
       "      <td>0</td>\n",
       "      <td>0</td>\n",
       "      <td>0</td>\n",
       "      <td>0</td>\n",
       "      <td>0</td>\n",
       "      <td>...</td>\n",
       "      <td>1199</td>\n",
       "      <td>1210</td>\n",
       "      <td>1217</td>\n",
       "      <td>1223</td>\n",
       "      <td>1230</td>\n",
       "      <td>1233</td>\n",
       "      <td>1241</td>\n",
       "      <td>1247</td>\n",
       "      <td>1252</td>\n",
       "      <td>1256</td>\n",
       "    </tr>\n",
       "  </tbody>\n",
       "</table>\n",
       "<p>2 rows × 362 columns</p>\n",
       "</div>"
      ],
      "text/plain": [
       "  Province/State Country/Region       Lat       Long  1/22/20  1/23/20  \\\n",
       "0            NaN    Afghanistan  33.93911  67.709953        0        0   \n",
       "1            NaN        Albania  41.15330  20.168300        0        0   \n",
       "\n",
       "   1/24/20  1/25/20  1/26/20  1/27/20  ...  1/4/21  1/5/21  1/6/21  1/7/21  \\\n",
       "0        0        0        0        0  ...    2237    2244    2244    2253   \n",
       "1        0        0        0        0  ...    1199    1210    1217    1223   \n",
       "\n",
       "   1/8/21  1/9/21  1/10/21  1/11/21  1/12/21  1/13/21  \n",
       "0    2257    2264     2277     2288     2301     2301  \n",
       "1    1230    1233     1241     1247     1252     1256  \n",
       "\n",
       "[2 rows x 362 columns]"
      ]
     },
     "execution_count": 5,
     "metadata": {},
     "output_type": "execute_result"
    }
   ],
   "source": [
    "df_deaths=pd.read_csv(\"https://raw.githubusercontent.com/CSSEGISandData/COVID-19/master/csse_covid_19_data/csse_covid_19_time_series/time_series_covid19_deaths_global.csv\")\n",
    "df_deaths.head(2)"
   ]
  },
  {
   "cell_type": "code",
   "execution_count": 6,
   "metadata": {},
   "outputs": [
    {
     "data": {
      "text/plain": [
       "Province/State    188\n",
       "Country/Region      0\n",
       "Lat                 1\n",
       "Long                1\n",
       "1/22/20             0\n",
       "                 ... \n",
       "1/9/21              0\n",
       "1/10/21             0\n",
       "1/11/21             0\n",
       "1/12/21             0\n",
       "1/13/21             0\n",
       "Length: 362, dtype: int64"
      ]
     },
     "execution_count": 6,
     "metadata": {},
     "output_type": "execute_result"
    }
   ],
   "source": [
    "df_deaths.isnull().sum()"
   ]
  },
  {
   "cell_type": "code",
   "execution_count": 7,
   "metadata": {},
   "outputs": [
    {
     "data": {
      "text/html": [
       "<div>\n",
       "<style scoped>\n",
       "    .dataframe tbody tr th:only-of-type {\n",
       "        vertical-align: middle;\n",
       "    }\n",
       "\n",
       "    .dataframe tbody tr th {\n",
       "        vertical-align: top;\n",
       "    }\n",
       "\n",
       "    .dataframe thead th {\n",
       "        text-align: right;\n",
       "    }\n",
       "</style>\n",
       "<table border=\"1\" class=\"dataframe\">\n",
       "  <thead>\n",
       "    <tr style=\"text-align: right;\">\n",
       "      <th></th>\n",
       "      <th>Province/State</th>\n",
       "      <th>Country/Region</th>\n",
       "      <th>Lat</th>\n",
       "      <th>Long</th>\n",
       "      <th>1/22/20</th>\n",
       "      <th>1/23/20</th>\n",
       "      <th>1/24/20</th>\n",
       "      <th>1/25/20</th>\n",
       "      <th>1/26/20</th>\n",
       "      <th>1/27/20</th>\n",
       "      <th>...</th>\n",
       "      <th>1/4/21</th>\n",
       "      <th>1/5/21</th>\n",
       "      <th>1/6/21</th>\n",
       "      <th>1/7/21</th>\n",
       "      <th>1/8/21</th>\n",
       "      <th>1/9/21</th>\n",
       "      <th>1/10/21</th>\n",
       "      <th>1/11/21</th>\n",
       "      <th>1/12/21</th>\n",
       "      <th>1/13/21</th>\n",
       "    </tr>\n",
       "  </thead>\n",
       "  <tbody>\n",
       "    <tr>\n",
       "      <th>0</th>\n",
       "      <td>NaN</td>\n",
       "      <td>Afghanistan</td>\n",
       "      <td>33.93911</td>\n",
       "      <td>67.709953</td>\n",
       "      <td>0</td>\n",
       "      <td>0</td>\n",
       "      <td>0</td>\n",
       "      <td>0</td>\n",
       "      <td>0</td>\n",
       "      <td>0</td>\n",
       "      <td>...</td>\n",
       "      <td>53011</td>\n",
       "      <td>53105</td>\n",
       "      <td>53105</td>\n",
       "      <td>53207</td>\n",
       "      <td>53332</td>\n",
       "      <td>53400</td>\n",
       "      <td>53489</td>\n",
       "      <td>53538</td>\n",
       "      <td>53584</td>\n",
       "      <td>53584</td>\n",
       "    </tr>\n",
       "    <tr>\n",
       "      <th>1</th>\n",
       "      <td>NaN</td>\n",
       "      <td>Albania</td>\n",
       "      <td>41.15330</td>\n",
       "      <td>20.168300</td>\n",
       "      <td>0</td>\n",
       "      <td>0</td>\n",
       "      <td>0</td>\n",
       "      <td>0</td>\n",
       "      <td>0</td>\n",
       "      <td>0</td>\n",
       "      <td>...</td>\n",
       "      <td>59623</td>\n",
       "      <td>60283</td>\n",
       "      <td>61008</td>\n",
       "      <td>61705</td>\n",
       "      <td>62378</td>\n",
       "      <td>63033</td>\n",
       "      <td>63595</td>\n",
       "      <td>63971</td>\n",
       "      <td>64627</td>\n",
       "      <td>65334</td>\n",
       "    </tr>\n",
       "  </tbody>\n",
       "</table>\n",
       "<p>2 rows × 362 columns</p>\n",
       "</div>"
      ],
      "text/plain": [
       "  Province/State Country/Region       Lat       Long  1/22/20  1/23/20  \\\n",
       "0            NaN    Afghanistan  33.93911  67.709953        0        0   \n",
       "1            NaN        Albania  41.15330  20.168300        0        0   \n",
       "\n",
       "   1/24/20  1/25/20  1/26/20  1/27/20  ...  1/4/21  1/5/21  1/6/21  1/7/21  \\\n",
       "0        0        0        0        0  ...   53011   53105   53105   53207   \n",
       "1        0        0        0        0  ...   59623   60283   61008   61705   \n",
       "\n",
       "   1/8/21  1/9/21  1/10/21  1/11/21  1/12/21  1/13/21  \n",
       "0   53332   53400    53489    53538    53584    53584  \n",
       "1   62378   63033    63595    63971    64627    65334  \n",
       "\n",
       "[2 rows x 362 columns]"
      ]
     },
     "execution_count": 7,
     "metadata": {},
     "output_type": "execute_result"
    }
   ],
   "source": [
    "df_confirmed=pd.read_csv(\"https://raw.githubusercontent.com/CSSEGISandData/COVID-19/master/csse_covid_19_data/csse_covid_19_time_series/time_series_covid19_confirmed_global.csv\")\n",
    "df_confirmed.head(2)"
   ]
  },
  {
   "cell_type": "code",
   "execution_count": 8,
   "metadata": {},
   "outputs": [
    {
     "data": {
      "text/plain": [
       "Province/State    188\n",
       "Country/Region      0\n",
       "Lat                 1\n",
       "Long                1\n",
       "1/22/20             0\n",
       "                 ... \n",
       "1/9/21              0\n",
       "1/10/21             0\n",
       "1/11/21             0\n",
       "1/12/21             0\n",
       "1/13/21             0\n",
       "Length: 362, dtype: int64"
      ]
     },
     "execution_count": 8,
     "metadata": {},
     "output_type": "execute_result"
    }
   ],
   "source": [
    "df_confirmed.isnull().sum()"
   ]
  },
  {
   "cell_type": "code",
   "execution_count": 9,
   "metadata": {},
   "outputs": [
    {
     "data": {
      "text/html": [
       "<div>\n",
       "<style scoped>\n",
       "    .dataframe tbody tr th:only-of-type {\n",
       "        vertical-align: middle;\n",
       "    }\n",
       "\n",
       "    .dataframe tbody tr th {\n",
       "        vertical-align: top;\n",
       "    }\n",
       "\n",
       "    .dataframe thead th {\n",
       "        text-align: right;\n",
       "    }\n",
       "</style>\n",
       "<table border=\"1\" class=\"dataframe\">\n",
       "  <thead>\n",
       "    <tr style=\"text-align: right;\">\n",
       "      <th></th>\n",
       "      <th>Province/State</th>\n",
       "      <th>Country/Region</th>\n",
       "      <th>Lat</th>\n",
       "      <th>Long</th>\n",
       "      <th>1/22/20</th>\n",
       "      <th>1/23/20</th>\n",
       "      <th>1/24/20</th>\n",
       "      <th>1/25/20</th>\n",
       "      <th>1/26/20</th>\n",
       "      <th>1/27/20</th>\n",
       "      <th>...</th>\n",
       "      <th>1/4/21</th>\n",
       "      <th>1/5/21</th>\n",
       "      <th>1/6/21</th>\n",
       "      <th>1/7/21</th>\n",
       "      <th>1/8/21</th>\n",
       "      <th>1/9/21</th>\n",
       "      <th>1/10/21</th>\n",
       "      <th>1/11/21</th>\n",
       "      <th>1/12/21</th>\n",
       "      <th>1/13/21</th>\n",
       "    </tr>\n",
       "  </thead>\n",
       "  <tbody>\n",
       "    <tr>\n",
       "      <th>0</th>\n",
       "      <td>NaN</td>\n",
       "      <td>Afghanistan</td>\n",
       "      <td>33.93911</td>\n",
       "      <td>67.709953</td>\n",
       "      <td>0</td>\n",
       "      <td>0</td>\n",
       "      <td>0</td>\n",
       "      <td>0</td>\n",
       "      <td>0</td>\n",
       "      <td>0</td>\n",
       "      <td>...</td>\n",
       "      <td>42530</td>\n",
       "      <td>42666</td>\n",
       "      <td>42666</td>\n",
       "      <td>43291</td>\n",
       "      <td>43440</td>\n",
       "      <td>43740</td>\n",
       "      <td>43948</td>\n",
       "      <td>44137</td>\n",
       "      <td>44608</td>\n",
       "      <td>44850</td>\n",
       "    </tr>\n",
       "    <tr>\n",
       "      <th>1</th>\n",
       "      <td>NaN</td>\n",
       "      <td>Albania</td>\n",
       "      <td>41.15330</td>\n",
       "      <td>20.168300</td>\n",
       "      <td>0</td>\n",
       "      <td>0</td>\n",
       "      <td>0</td>\n",
       "      <td>0</td>\n",
       "      <td>0</td>\n",
       "      <td>0</td>\n",
       "      <td>...</td>\n",
       "      <td>34996</td>\n",
       "      <td>35551</td>\n",
       "      <td>36102</td>\n",
       "      <td>36535</td>\n",
       "      <td>36971</td>\n",
       "      <td>37327</td>\n",
       "      <td>37648</td>\n",
       "      <td>37981</td>\n",
       "      <td>38421</td>\n",
       "      <td>38860</td>\n",
       "    </tr>\n",
       "  </tbody>\n",
       "</table>\n",
       "<p>2 rows × 362 columns</p>\n",
       "</div>"
      ],
      "text/plain": [
       "  Province/State Country/Region       Lat       Long  1/22/20  1/23/20  \\\n",
       "0            NaN    Afghanistan  33.93911  67.709953        0        0   \n",
       "1            NaN        Albania  41.15330  20.168300        0        0   \n",
       "\n",
       "   1/24/20  1/25/20  1/26/20  1/27/20  ...  1/4/21  1/5/21  1/6/21  1/7/21  \\\n",
       "0        0        0        0        0  ...   42530   42666   42666   43291   \n",
       "1        0        0        0        0  ...   34996   35551   36102   36535   \n",
       "\n",
       "   1/8/21  1/9/21  1/10/21  1/11/21  1/12/21  1/13/21  \n",
       "0   43440   43740    43948    44137    44608    44850  \n",
       "1   36971   37327    37648    37981    38421    38860  \n",
       "\n",
       "[2 rows x 362 columns]"
      ]
     },
     "execution_count": 9,
     "metadata": {},
     "output_type": "execute_result"
    }
   ],
   "source": [
    "df_recovered=pd.read_csv(\"https://raw.githubusercontent.com/CSSEGISandData/COVID-19/master/csse_covid_19_data/csse_covid_19_time_series/time_series_covid19_recovered_global.csv\")\n",
    "df_recovered.head(2)"
   ]
  },
  {
   "cell_type": "code",
   "execution_count": 10,
   "metadata": {},
   "outputs": [
    {
     "data": {
      "text/plain": [
       "Province/State    189\n",
       "Country/Region      0\n",
       "Lat                 0\n",
       "Long                0\n",
       "1/22/20             0\n",
       "                 ... \n",
       "1/9/21              0\n",
       "1/10/21             0\n",
       "1/11/21             0\n",
       "1/12/21             0\n",
       "1/13/21             0\n",
       "Length: 362, dtype: int64"
      ]
     },
     "execution_count": 10,
     "metadata": {},
     "output_type": "execute_result"
    }
   ],
   "source": [
    "df_recovered.isnull().sum()"
   ]
  },
  {
   "cell_type": "markdown",
   "metadata": {},
   "source": [
    "### Data Preprocessing\n",
    "few null values are present that need to be dealt with in all three dataframes"
   ]
  },
  {
   "cell_type": "code",
   "execution_count": 11,
   "metadata": {},
   "outputs": [],
   "source": [
    "# Remove Province/State Column from all 3 datasets as all entries are empty"
   ]
  },
  {
   "cell_type": "code",
   "execution_count": 12,
   "metadata": {},
   "outputs": [],
   "source": [
    "df_confirmed.drop(\"Province/State\",axis=1,inplace=True)\n",
    "df_deaths.drop(\"Province/State\",axis=1,inplace=True)\n",
    "df_recovered.drop(\"Province/State\",axis=1,inplace=True)"
   ]
  },
  {
   "cell_type": "code",
   "execution_count": 13,
   "metadata": {},
   "outputs": [],
   "source": [
    "# get the row that contains null values  for all 3 dataframes"
   ]
  },
  {
   "cell_type": "code",
   "execution_count": 14,
   "metadata": {},
   "outputs": [
    {
     "name": "stdout",
     "output_type": "stream",
     "text": [
      "   Country/Region  Lat  Long  1/22/20  1/23/20  1/24/20  1/25/20  1/26/20  \\\n",
      "52         Canada  NaN   NaN        0        0        0        0        0   \n",
      "\n",
      "    1/27/20  1/28/20  ...  1/4/21  1/5/21  1/6/21  1/7/21  1/8/21  1/9/21  \\\n",
      "52        0        0  ...       0       0       0       0       0       0   \n",
      "\n",
      "    1/10/21  1/11/21  1/12/21  1/13/21  \n",
      "52        0        0        0        0  \n",
      "\n",
      "[1 rows x 361 columns]\n"
     ]
    }
   ],
   "source": [
    "print(df_deaths[df_deaths[\"Lat\"].isnull()])"
   ]
  },
  {
   "cell_type": "code",
   "execution_count": 15,
   "metadata": {},
   "outputs": [
    {
     "name": "stdout",
     "output_type": "stream",
     "text": [
      "   Country/Region  Lat  Long  1/22/20  1/23/20  1/24/20  1/25/20  1/26/20  \\\n",
      "52         Canada  NaN   NaN        0        0        0        0        0   \n",
      "\n",
      "    1/27/20  1/28/20  ...  1/4/21  1/5/21  1/6/21  1/7/21  1/8/21  1/9/21  \\\n",
      "52        0        0  ...      13      13      13      13      13      13   \n",
      "\n",
      "    1/10/21  1/11/21  1/12/21  1/13/21  \n",
      "52       13       13       13       13  \n",
      "\n",
      "[1 rows x 361 columns]\n"
     ]
    }
   ],
   "source": [
    "print(df_confirmed[df_confirmed[\"Lat\"].isnull()])"
   ]
  },
  {
   "cell_type": "code",
   "execution_count": 16,
   "metadata": {},
   "outputs": [
    {
     "name": "stdout",
     "output_type": "stream",
     "text": [
      "   Country/Region      Lat      Long  1/22/20  1/23/20  1/24/20  1/25/20  \\\n",
      "39         Canada  56.1304 -106.3468        0        0        0        0   \n",
      "\n",
      "    1/26/20  1/27/20  1/28/20  ...  1/4/21  1/5/21  1/6/21  1/7/21  1/8/21  \\\n",
      "39        0        0        0  ...  523448  529580  537024  544047  551983   \n",
      "\n",
      "    1/9/21  1/10/21  1/11/21  1/12/21  1/13/21  \n",
      "39  558594   565049   575152   582822   591131  \n",
      "\n",
      "[1 rows x 361 columns]\n"
     ]
    }
   ],
   "source": [
    "print(df_recovered[df_recovered[\"Country/Region\"]==\"Canada\"])"
   ]
  },
  {
   "cell_type": "code",
   "execution_count": 17,
   "metadata": {},
   "outputs": [],
   "source": [
    "# replace null Latitide and longitude for canada with its actual value of longitudes and latitudes present in recovered dataframe"
   ]
  },
  {
   "cell_type": "code",
   "execution_count": 18,
   "metadata": {},
   "outputs": [],
   "source": [
    "df_deaths.loc[df_deaths[\"Country/Region\"]==\"Canada\",'Lat']=56.1304\n",
    "df_deaths.loc[df_deaths[\"Country/Region\"]==\"Canada\",\"Long\"]=-106.3468"
   ]
  },
  {
   "cell_type": "code",
   "execution_count": 19,
   "metadata": {},
   "outputs": [],
   "source": [
    "df_confirmed.loc[df_confirmed[\"Country/Region\"]==\"Canada\",'Lat']=56.1304\n",
    "df_confirmed.loc[df_confirmed[\"Country/Region\"]==\"Canada\",\"Long\"]=-106.3468"
   ]
  },
  {
   "cell_type": "code",
   "execution_count": 20,
   "metadata": {},
   "outputs": [],
   "source": [
    "# values for Lat and Long for canada replaced succesfully"
   ]
  },
  {
   "cell_type": "code",
   "execution_count": 21,
   "metadata": {},
   "outputs": [
    {
     "name": "stdout",
     "output_type": "stream",
     "text": [
      "Empty DataFrame\n",
      "Columns: [Country/Region, Lat, Long, 1/22/20, 1/23/20, 1/24/20, 1/25/20, 1/26/20, 1/27/20, 1/28/20, 1/29/20, 1/30/20, 1/31/20, 2/1/20, 2/2/20, 2/3/20, 2/4/20, 2/5/20, 2/6/20, 2/7/20, 2/8/20, 2/9/20, 2/10/20, 2/11/20, 2/12/20, 2/13/20, 2/14/20, 2/15/20, 2/16/20, 2/17/20, 2/18/20, 2/19/20, 2/20/20, 2/21/20, 2/22/20, 2/23/20, 2/24/20, 2/25/20, 2/26/20, 2/27/20, 2/28/20, 2/29/20, 3/1/20, 3/2/20, 3/3/20, 3/4/20, 3/5/20, 3/6/20, 3/7/20, 3/8/20, 3/9/20, 3/10/20, 3/11/20, 3/12/20, 3/13/20, 3/14/20, 3/15/20, 3/16/20, 3/17/20, 3/18/20, 3/19/20, 3/20/20, 3/21/20, 3/22/20, 3/23/20, 3/24/20, 3/25/20, 3/26/20, 3/27/20, 3/28/20, 3/29/20, 3/30/20, 3/31/20, 4/1/20, 4/2/20, 4/3/20, 4/4/20, 4/5/20, 4/6/20, 4/7/20, 4/8/20, 4/9/20, 4/10/20, 4/11/20, 4/12/20, 4/13/20, 4/14/20, 4/15/20, 4/16/20, 4/17/20, 4/18/20, 4/19/20, 4/20/20, 4/21/20, 4/22/20, 4/23/20, 4/24/20, 4/25/20, 4/26/20, 4/27/20, ...]\n",
      "Index: []\n",
      "\n",
      "[0 rows x 361 columns]\n"
     ]
    }
   ],
   "source": [
    "print(df_confirmed[df_confirmed[\"Lat\"].isnull()])"
   ]
  },
  {
   "cell_type": "code",
   "execution_count": 22,
   "metadata": {},
   "outputs": [
    {
     "data": {
      "text/plain": [
       "Country/Region    0\n",
       "Lat               0\n",
       "Long              0\n",
       "1/22/20           0\n",
       "1/23/20           0\n",
       "                 ..\n",
       "1/9/21            0\n",
       "1/10/21           0\n",
       "1/11/21           0\n",
       "1/12/21           0\n",
       "1/13/21           0\n",
       "Length: 361, dtype: int64"
      ]
     },
     "execution_count": 22,
     "metadata": {},
     "output_type": "execute_result"
    }
   ],
   "source": [
    "df_deaths.isnull().sum()"
   ]
  },
  {
   "cell_type": "code",
   "execution_count": 23,
   "metadata": {},
   "outputs": [],
   "source": [
    "df[\"Recovery_Rate\"]=round(df[\"Recovered\"]/df[\"Confirmed\"]*100,2)"
   ]
  },
  {
   "cell_type": "code",
   "execution_count": 24,
   "metadata": {},
   "outputs": [
    {
     "data": {
      "text/html": [
       "<div>\n",
       "<style scoped>\n",
       "    .dataframe tbody tr th:only-of-type {\n",
       "        vertical-align: middle;\n",
       "    }\n",
       "\n",
       "    .dataframe tbody tr th {\n",
       "        vertical-align: top;\n",
       "    }\n",
       "\n",
       "    .dataframe thead th {\n",
       "        text-align: right;\n",
       "    }\n",
       "</style>\n",
       "<table border=\"1\" class=\"dataframe\">\n",
       "  <thead>\n",
       "    <tr style=\"text-align: right;\">\n",
       "      <th></th>\n",
       "      <th>Country_Region</th>\n",
       "      <th>Last_Update</th>\n",
       "      <th>Lat</th>\n",
       "      <th>Long_</th>\n",
       "      <th>Confirmed</th>\n",
       "      <th>Deaths</th>\n",
       "      <th>Recovered</th>\n",
       "      <th>Active</th>\n",
       "      <th>Incident_Rate</th>\n",
       "      <th>People_Tested</th>\n",
       "      <th>People_Hospitalized</th>\n",
       "      <th>Mortality_Rate</th>\n",
       "      <th>UID</th>\n",
       "      <th>ISO3</th>\n",
       "      <th>Recovery_Rate</th>\n",
       "    </tr>\n",
       "  </thead>\n",
       "  <tbody>\n",
       "    <tr>\n",
       "      <th>0</th>\n",
       "      <td>Afghanistan</td>\n",
       "      <td>2021-01-14 11:21:58</td>\n",
       "      <td>33.93911</td>\n",
       "      <td>67.709953</td>\n",
       "      <td>53584.0</td>\n",
       "      <td>2301.0</td>\n",
       "      <td>45105.0</td>\n",
       "      <td>6178.0</td>\n",
       "      <td>137.647787</td>\n",
       "      <td>NaN</td>\n",
       "      <td>NaN</td>\n",
       "      <td>4.294192</td>\n",
       "      <td>4</td>\n",
       "      <td>AFG</td>\n",
       "      <td>84.18</td>\n",
       "    </tr>\n",
       "    <tr>\n",
       "      <th>1</th>\n",
       "      <td>Albania</td>\n",
       "      <td>2021-01-14 11:21:58</td>\n",
       "      <td>41.15330</td>\n",
       "      <td>20.168300</td>\n",
       "      <td>65334.0</td>\n",
       "      <td>1256.0</td>\n",
       "      <td>38860.0</td>\n",
       "      <td>25218.0</td>\n",
       "      <td>2270.275905</td>\n",
       "      <td>NaN</td>\n",
       "      <td>NaN</td>\n",
       "      <td>1.922429</td>\n",
       "      <td>8</td>\n",
       "      <td>ALB</td>\n",
       "      <td>59.48</td>\n",
       "    </tr>\n",
       "    <tr>\n",
       "      <th>2</th>\n",
       "      <td>Algeria</td>\n",
       "      <td>2021-01-14 11:21:58</td>\n",
       "      <td>28.03390</td>\n",
       "      <td>1.659600</td>\n",
       "      <td>102860.0</td>\n",
       "      <td>2819.0</td>\n",
       "      <td>69791.0</td>\n",
       "      <td>30250.0</td>\n",
       "      <td>234.566827</td>\n",
       "      <td>NaN</td>\n",
       "      <td>NaN</td>\n",
       "      <td>2.740618</td>\n",
       "      <td>12</td>\n",
       "      <td>DZA</td>\n",
       "      <td>67.85</td>\n",
       "    </tr>\n",
       "    <tr>\n",
       "      <th>3</th>\n",
       "      <td>Andorra</td>\n",
       "      <td>2021-01-14 11:21:58</td>\n",
       "      <td>42.50630</td>\n",
       "      <td>1.521800</td>\n",
       "      <td>8818.0</td>\n",
       "      <td>87.0</td>\n",
       "      <td>8070.0</td>\n",
       "      <td>661.0</td>\n",
       "      <td>11412.670679</td>\n",
       "      <td>NaN</td>\n",
       "      <td>NaN</td>\n",
       "      <td>0.986618</td>\n",
       "      <td>20</td>\n",
       "      <td>AND</td>\n",
       "      <td>91.52</td>\n",
       "    </tr>\n",
       "    <tr>\n",
       "      <th>4</th>\n",
       "      <td>Angola</td>\n",
       "      <td>2021-01-14 11:21:58</td>\n",
       "      <td>-11.20270</td>\n",
       "      <td>17.873900</td>\n",
       "      <td>18425.0</td>\n",
       "      <td>424.0</td>\n",
       "      <td>15631.0</td>\n",
       "      <td>2370.0</td>\n",
       "      <td>56.060518</td>\n",
       "      <td>NaN</td>\n",
       "      <td>NaN</td>\n",
       "      <td>2.301221</td>\n",
       "      <td>24</td>\n",
       "      <td>AGO</td>\n",
       "      <td>84.84</td>\n",
       "    </tr>\n",
       "  </tbody>\n",
       "</table>\n",
       "</div>"
      ],
      "text/plain": [
       "  Country_Region          Last_Update       Lat      Long_  Confirmed  Deaths  \\\n",
       "0    Afghanistan  2021-01-14 11:21:58  33.93911  67.709953    53584.0  2301.0   \n",
       "1        Albania  2021-01-14 11:21:58  41.15330  20.168300    65334.0  1256.0   \n",
       "2        Algeria  2021-01-14 11:21:58  28.03390   1.659600   102860.0  2819.0   \n",
       "3        Andorra  2021-01-14 11:21:58  42.50630   1.521800     8818.0    87.0   \n",
       "4         Angola  2021-01-14 11:21:58 -11.20270  17.873900    18425.0   424.0   \n",
       "\n",
       "   Recovered   Active  Incident_Rate  People_Tested  People_Hospitalized  \\\n",
       "0    45105.0   6178.0     137.647787            NaN                  NaN   \n",
       "1    38860.0  25218.0    2270.275905            NaN                  NaN   \n",
       "2    69791.0  30250.0     234.566827            NaN                  NaN   \n",
       "3     8070.0    661.0   11412.670679            NaN                  NaN   \n",
       "4    15631.0   2370.0      56.060518            NaN                  NaN   \n",
       "\n",
       "   Mortality_Rate  UID ISO3  Recovery_Rate  \n",
       "0        4.294192    4  AFG          84.18  \n",
       "1        1.922429    8  ALB          59.48  \n",
       "2        2.740618   12  DZA          67.85  \n",
       "3        0.986618   20  AND          91.52  \n",
       "4        2.301221   24  AGO          84.84  "
      ]
     },
     "execution_count": 24,
     "metadata": {},
     "output_type": "execute_result"
    }
   ],
   "source": [
    "df.head()"
   ]
  },
  {
   "cell_type": "code",
   "execution_count": 25,
   "metadata": {},
   "outputs": [],
   "source": [
    "df.drop([\"People_Tested\",\"People_Hospitalized\"],axis=1,inplace=True)"
   ]
  },
  {
   "cell_type": "code",
   "execution_count": 26,
   "metadata": {},
   "outputs": [],
   "source": [
    "new_df=df.dropna() "
   ]
  },
  {
   "cell_type": "code",
   "execution_count": 27,
   "metadata": {},
   "outputs": [
    {
     "data": {
      "text/html": [
       "<div>\n",
       "<style scoped>\n",
       "    .dataframe tbody tr th:only-of-type {\n",
       "        vertical-align: middle;\n",
       "    }\n",
       "\n",
       "    .dataframe tbody tr th {\n",
       "        vertical-align: top;\n",
       "    }\n",
       "\n",
       "    .dataframe thead th {\n",
       "        text-align: right;\n",
       "    }\n",
       "</style>\n",
       "<table border=\"1\" class=\"dataframe\">\n",
       "  <thead>\n",
       "    <tr style=\"text-align: right;\">\n",
       "      <th></th>\n",
       "      <th>Country_Region</th>\n",
       "      <th>Last_Update</th>\n",
       "      <th>Lat</th>\n",
       "      <th>Long_</th>\n",
       "      <th>Confirmed</th>\n",
       "      <th>Deaths</th>\n",
       "      <th>Recovered</th>\n",
       "      <th>Active</th>\n",
       "      <th>Incident_Rate</th>\n",
       "      <th>Mortality_Rate</th>\n",
       "      <th>UID</th>\n",
       "      <th>ISO3</th>\n",
       "      <th>Recovery_Rate</th>\n",
       "    </tr>\n",
       "  </thead>\n",
       "  <tbody>\n",
       "    <tr>\n",
       "      <th>0</th>\n",
       "      <td>Afghanistan</td>\n",
       "      <td>2021-01-14 11:21:58</td>\n",
       "      <td>33.93911</td>\n",
       "      <td>67.709953</td>\n",
       "      <td>53584.0</td>\n",
       "      <td>2301.0</td>\n",
       "      <td>45105.0</td>\n",
       "      <td>6178.0</td>\n",
       "      <td>137.647787</td>\n",
       "      <td>4.294192</td>\n",
       "      <td>4</td>\n",
       "      <td>AFG</td>\n",
       "      <td>84.18</td>\n",
       "    </tr>\n",
       "    <tr>\n",
       "      <th>1</th>\n",
       "      <td>Albania</td>\n",
       "      <td>2021-01-14 11:21:58</td>\n",
       "      <td>41.15330</td>\n",
       "      <td>20.168300</td>\n",
       "      <td>65334.0</td>\n",
       "      <td>1256.0</td>\n",
       "      <td>38860.0</td>\n",
       "      <td>25218.0</td>\n",
       "      <td>2270.275905</td>\n",
       "      <td>1.922429</td>\n",
       "      <td>8</td>\n",
       "      <td>ALB</td>\n",
       "      <td>59.48</td>\n",
       "    </tr>\n",
       "    <tr>\n",
       "      <th>2</th>\n",
       "      <td>Algeria</td>\n",
       "      <td>2021-01-14 11:21:58</td>\n",
       "      <td>28.03390</td>\n",
       "      <td>1.659600</td>\n",
       "      <td>102860.0</td>\n",
       "      <td>2819.0</td>\n",
       "      <td>69791.0</td>\n",
       "      <td>30250.0</td>\n",
       "      <td>234.566827</td>\n",
       "      <td>2.740618</td>\n",
       "      <td>12</td>\n",
       "      <td>DZA</td>\n",
       "      <td>67.85</td>\n",
       "    </tr>\n",
       "    <tr>\n",
       "      <th>3</th>\n",
       "      <td>Andorra</td>\n",
       "      <td>2021-01-14 11:21:58</td>\n",
       "      <td>42.50630</td>\n",
       "      <td>1.521800</td>\n",
       "      <td>8818.0</td>\n",
       "      <td>87.0</td>\n",
       "      <td>8070.0</td>\n",
       "      <td>661.0</td>\n",
       "      <td>11412.670679</td>\n",
       "      <td>0.986618</td>\n",
       "      <td>20</td>\n",
       "      <td>AND</td>\n",
       "      <td>91.52</td>\n",
       "    </tr>\n",
       "    <tr>\n",
       "      <th>4</th>\n",
       "      <td>Angola</td>\n",
       "      <td>2021-01-14 11:21:58</td>\n",
       "      <td>-11.20270</td>\n",
       "      <td>17.873900</td>\n",
       "      <td>18425.0</td>\n",
       "      <td>424.0</td>\n",
       "      <td>15631.0</td>\n",
       "      <td>2370.0</td>\n",
       "      <td>56.060518</td>\n",
       "      <td>2.301221</td>\n",
       "      <td>24</td>\n",
       "      <td>AGO</td>\n",
       "      <td>84.84</td>\n",
       "    </tr>\n",
       "  </tbody>\n",
       "</table>\n",
       "</div>"
      ],
      "text/plain": [
       "  Country_Region          Last_Update       Lat      Long_  Confirmed  Deaths  \\\n",
       "0    Afghanistan  2021-01-14 11:21:58  33.93911  67.709953    53584.0  2301.0   \n",
       "1        Albania  2021-01-14 11:21:58  41.15330  20.168300    65334.0  1256.0   \n",
       "2        Algeria  2021-01-14 11:21:58  28.03390   1.659600   102860.0  2819.0   \n",
       "3        Andorra  2021-01-14 11:21:58  42.50630   1.521800     8818.0    87.0   \n",
       "4         Angola  2021-01-14 11:21:58 -11.20270  17.873900    18425.0   424.0   \n",
       "\n",
       "   Recovered   Active  Incident_Rate  Mortality_Rate  UID ISO3  Recovery_Rate  \n",
       "0    45105.0   6178.0     137.647787        4.294192    4  AFG          84.18  \n",
       "1    38860.0  25218.0    2270.275905        1.922429    8  ALB          59.48  \n",
       "2    69791.0  30250.0     234.566827        2.740618   12  DZA          67.85  \n",
       "3     8070.0    661.0   11412.670679        0.986618   20  AND          91.52  \n",
       "4    15631.0   2370.0      56.060518        2.301221   24  AGO          84.84  "
      ]
     },
     "execution_count": 27,
     "metadata": {},
     "output_type": "execute_result"
    }
   ],
   "source": [
    "new_df.head()"
   ]
  },
  {
   "cell_type": "code",
   "execution_count": 28,
   "metadata": {},
   "outputs": [],
   "source": [
    "# no missing values are present"
   ]
  },
  {
   "cell_type": "markdown",
   "metadata": {},
   "source": [
    "### convert data into cleaned time series format for a country because for displaying the graph not all columns are required in the plot and starting values for the time series is 0 which can be truncated.\n",
    "\n"
   ]
  },
  {
   "cell_type": "code",
   "execution_count": 29,
   "metadata": {},
   "outputs": [
    {
     "data": {
      "text/html": [
       "<div>\n",
       "<style scoped>\n",
       "    .dataframe tbody tr th:only-of-type {\n",
       "        vertical-align: middle;\n",
       "    }\n",
       "\n",
       "    .dataframe tbody tr th {\n",
       "        vertical-align: top;\n",
       "    }\n",
       "\n",
       "    .dataframe thead th {\n",
       "        text-align: right;\n",
       "    }\n",
       "</style>\n",
       "<table border=\"1\" class=\"dataframe\">\n",
       "  <thead>\n",
       "    <tr style=\"text-align: right;\">\n",
       "      <th></th>\n",
       "      <th>0</th>\n",
       "      <th>1</th>\n",
       "      <th>2</th>\n",
       "      <th>3</th>\n",
       "      <th>4</th>\n",
       "      <th>5</th>\n",
       "      <th>6</th>\n",
       "      <th>7</th>\n",
       "      <th>8</th>\n",
       "      <th>9</th>\n",
       "      <th>...</th>\n",
       "      <th>262</th>\n",
       "      <th>263</th>\n",
       "      <th>264</th>\n",
       "      <th>265</th>\n",
       "      <th>266</th>\n",
       "      <th>267</th>\n",
       "      <th>268</th>\n",
       "      <th>269</th>\n",
       "      <th>270</th>\n",
       "      <th>271</th>\n",
       "    </tr>\n",
       "  </thead>\n",
       "  <tbody>\n",
       "    <tr>\n",
       "      <th>1/23/20</th>\n",
       "      <td>0</td>\n",
       "      <td>0</td>\n",
       "      <td>0</td>\n",
       "      <td>0</td>\n",
       "      <td>0</td>\n",
       "      <td>0</td>\n",
       "      <td>0</td>\n",
       "      <td>0</td>\n",
       "      <td>0</td>\n",
       "      <td>0</td>\n",
       "      <td>...</td>\n",
       "      <td>0</td>\n",
       "      <td>0</td>\n",
       "      <td>0</td>\n",
       "      <td>0</td>\n",
       "      <td>0</td>\n",
       "      <td>2</td>\n",
       "      <td>0</td>\n",
       "      <td>0</td>\n",
       "      <td>0</td>\n",
       "      <td>0</td>\n",
       "    </tr>\n",
       "    <tr>\n",
       "      <th>1/24/20</th>\n",
       "      <td>0</td>\n",
       "      <td>0</td>\n",
       "      <td>0</td>\n",
       "      <td>0</td>\n",
       "      <td>0</td>\n",
       "      <td>0</td>\n",
       "      <td>0</td>\n",
       "      <td>0</td>\n",
       "      <td>0</td>\n",
       "      <td>0</td>\n",
       "      <td>...</td>\n",
       "      <td>0</td>\n",
       "      <td>0</td>\n",
       "      <td>0</td>\n",
       "      <td>0</td>\n",
       "      <td>0</td>\n",
       "      <td>2</td>\n",
       "      <td>0</td>\n",
       "      <td>0</td>\n",
       "      <td>0</td>\n",
       "      <td>0</td>\n",
       "    </tr>\n",
       "    <tr>\n",
       "      <th>1/25/20</th>\n",
       "      <td>0</td>\n",
       "      <td>0</td>\n",
       "      <td>0</td>\n",
       "      <td>0</td>\n",
       "      <td>0</td>\n",
       "      <td>0</td>\n",
       "      <td>0</td>\n",
       "      <td>0</td>\n",
       "      <td>0</td>\n",
       "      <td>0</td>\n",
       "      <td>...</td>\n",
       "      <td>0</td>\n",
       "      <td>0</td>\n",
       "      <td>0</td>\n",
       "      <td>0</td>\n",
       "      <td>0</td>\n",
       "      <td>2</td>\n",
       "      <td>0</td>\n",
       "      <td>0</td>\n",
       "      <td>0</td>\n",
       "      <td>0</td>\n",
       "    </tr>\n",
       "    <tr>\n",
       "      <th>1/26/20</th>\n",
       "      <td>0</td>\n",
       "      <td>0</td>\n",
       "      <td>0</td>\n",
       "      <td>0</td>\n",
       "      <td>0</td>\n",
       "      <td>0</td>\n",
       "      <td>0</td>\n",
       "      <td>0</td>\n",
       "      <td>0</td>\n",
       "      <td>3</td>\n",
       "      <td>...</td>\n",
       "      <td>0</td>\n",
       "      <td>0</td>\n",
       "      <td>0</td>\n",
       "      <td>0</td>\n",
       "      <td>0</td>\n",
       "      <td>2</td>\n",
       "      <td>0</td>\n",
       "      <td>0</td>\n",
       "      <td>0</td>\n",
       "      <td>0</td>\n",
       "    </tr>\n",
       "    <tr>\n",
       "      <th>1/27/20</th>\n",
       "      <td>0</td>\n",
       "      <td>0</td>\n",
       "      <td>0</td>\n",
       "      <td>0</td>\n",
       "      <td>0</td>\n",
       "      <td>0</td>\n",
       "      <td>0</td>\n",
       "      <td>0</td>\n",
       "      <td>0</td>\n",
       "      <td>4</td>\n",
       "      <td>...</td>\n",
       "      <td>0</td>\n",
       "      <td>0</td>\n",
       "      <td>0</td>\n",
       "      <td>0</td>\n",
       "      <td>0</td>\n",
       "      <td>2</td>\n",
       "      <td>0</td>\n",
       "      <td>0</td>\n",
       "      <td>0</td>\n",
       "      <td>0</td>\n",
       "    </tr>\n",
       "    <tr>\n",
       "      <th>...</th>\n",
       "      <td>...</td>\n",
       "      <td>...</td>\n",
       "      <td>...</td>\n",
       "      <td>...</td>\n",
       "      <td>...</td>\n",
       "      <td>...</td>\n",
       "      <td>...</td>\n",
       "      <td>...</td>\n",
       "      <td>...</td>\n",
       "      <td>...</td>\n",
       "      <td>...</td>\n",
       "      <td>...</td>\n",
       "      <td>...</td>\n",
       "      <td>...</td>\n",
       "      <td>...</td>\n",
       "      <td>...</td>\n",
       "      <td>...</td>\n",
       "      <td>...</td>\n",
       "      <td>...</td>\n",
       "      <td>...</td>\n",
       "      <td>...</td>\n",
       "    </tr>\n",
       "    <tr>\n",
       "      <th>1/9/21</th>\n",
       "      <td>53400</td>\n",
       "      <td>63033</td>\n",
       "      <td>101913</td>\n",
       "      <td>8586</td>\n",
       "      <td>18156</td>\n",
       "      <td>169</td>\n",
       "      <td>1714409</td>\n",
       "      <td>161794</td>\n",
       "      <td>118</td>\n",
       "      <td>5007</td>\n",
       "      <td>...</td>\n",
       "      <td>3017409</td>\n",
       "      <td>24974</td>\n",
       "      <td>77530</td>\n",
       "      <td>1</td>\n",
       "      <td>116172</td>\n",
       "      <td>1513</td>\n",
       "      <td>146701</td>\n",
       "      <td>2104</td>\n",
       "      <td>26567</td>\n",
       "      <td>20499</td>\n",
       "    </tr>\n",
       "    <tr>\n",
       "      <th>1/10/21</th>\n",
       "      <td>53489</td>\n",
       "      <td>63595</td>\n",
       "      <td>102144</td>\n",
       "      <td>8586</td>\n",
       "      <td>18193</td>\n",
       "      <td>176</td>\n",
       "      <td>1722217</td>\n",
       "      <td>162131</td>\n",
       "      <td>118</td>\n",
       "      <td>5018</td>\n",
       "      <td>...</td>\n",
       "      <td>3072349</td>\n",
       "      <td>26186</td>\n",
       "      <td>77572</td>\n",
       "      <td>1</td>\n",
       "      <td>116610</td>\n",
       "      <td>1514</td>\n",
       "      <td>147400</td>\n",
       "      <td>2104</td>\n",
       "      <td>27728</td>\n",
       "      <td>21477</td>\n",
       "    </tr>\n",
       "    <tr>\n",
       "      <th>1/11/21</th>\n",
       "      <td>53538</td>\n",
       "      <td>63971</td>\n",
       "      <td>102369</td>\n",
       "      <td>8586</td>\n",
       "      <td>18254</td>\n",
       "      <td>176</td>\n",
       "      <td>1730921</td>\n",
       "      <td>162288</td>\n",
       "      <td>118</td>\n",
       "      <td>5034</td>\n",
       "      <td>...</td>\n",
       "      <td>3118518</td>\n",
       "      <td>26901</td>\n",
       "      <td>77611</td>\n",
       "      <td>1</td>\n",
       "      <td>116983</td>\n",
       "      <td>1515</td>\n",
       "      <td>148171</td>\n",
       "      <td>2105</td>\n",
       "      <td>28596</td>\n",
       "      <td>22297</td>\n",
       "    </tr>\n",
       "    <tr>\n",
       "      <th>1/12/21</th>\n",
       "      <td>53584</td>\n",
       "      <td>64627</td>\n",
       "      <td>102641</td>\n",
       "      <td>8682</td>\n",
       "      <td>18343</td>\n",
       "      <td>176</td>\n",
       "      <td>1744704</td>\n",
       "      <td>162643</td>\n",
       "      <td>118</td>\n",
       "      <td>5041</td>\n",
       "      <td>...</td>\n",
       "      <td>3164051</td>\n",
       "      <td>27846</td>\n",
       "      <td>77663</td>\n",
       "      <td>1</td>\n",
       "      <td>117299</td>\n",
       "      <td>1520</td>\n",
       "      <td>148968</td>\n",
       "      <td>2107</td>\n",
       "      <td>29757</td>\n",
       "      <td>23239</td>\n",
       "    </tr>\n",
       "    <tr>\n",
       "      <th>1/13/21</th>\n",
       "      <td>53584</td>\n",
       "      <td>65334</td>\n",
       "      <td>102860</td>\n",
       "      <td>8818</td>\n",
       "      <td>18425</td>\n",
       "      <td>176</td>\n",
       "      <td>1757429</td>\n",
       "      <td>163128</td>\n",
       "      <td>118</td>\n",
       "      <td>5043</td>\n",
       "      <td>...</td>\n",
       "      <td>3211576</td>\n",
       "      <td>28475</td>\n",
       "      <td>77716</td>\n",
       "      <td>1</td>\n",
       "      <td>117811</td>\n",
       "      <td>1521</td>\n",
       "      <td>149769</td>\n",
       "      <td>2109</td>\n",
       "      <td>31100</td>\n",
       "      <td>24256</td>\n",
       "    </tr>\n",
       "  </tbody>\n",
       "</table>\n",
       "<p>357 rows × 272 columns</p>\n",
       "</div>"
      ],
      "text/plain": [
       "           0      1       2     3      4    5        6       7    8     9    \\\n",
       "1/23/20      0      0       0     0      0    0        0       0    0     0   \n",
       "1/24/20      0      0       0     0      0    0        0       0    0     0   \n",
       "1/25/20      0      0       0     0      0    0        0       0    0     0   \n",
       "1/26/20      0      0       0     0      0    0        0       0    0     3   \n",
       "1/27/20      0      0       0     0      0    0        0       0    0     4   \n",
       "...        ...    ...     ...   ...    ...  ...      ...     ...  ...   ...   \n",
       "1/9/21   53400  63033  101913  8586  18156  169  1714409  161794  118  5007   \n",
       "1/10/21  53489  63595  102144  8586  18193  176  1722217  162131  118  5018   \n",
       "1/11/21  53538  63971  102369  8586  18254  176  1730921  162288  118  5034   \n",
       "1/12/21  53584  64627  102641  8682  18343  176  1744704  162643  118  5041   \n",
       "1/13/21  53584  65334  102860  8818  18425  176  1757429  163128  118  5043   \n",
       "\n",
       "         ...      262    263    264 265     266   267     268   269    270  \\\n",
       "1/23/20  ...        0      0      0   0       0     2       0     0      0   \n",
       "1/24/20  ...        0      0      0   0       0     2       0     0      0   \n",
       "1/25/20  ...        0      0      0   0       0     2       0     0      0   \n",
       "1/26/20  ...        0      0      0   0       0     2       0     0      0   \n",
       "1/27/20  ...        0      0      0   0       0     2       0     0      0   \n",
       "...      ...      ...    ...    ...  ..     ...   ...     ...   ...    ...   \n",
       "1/9/21   ...  3017409  24974  77530   1  116172  1513  146701  2104  26567   \n",
       "1/10/21  ...  3072349  26186  77572   1  116610  1514  147400  2104  27728   \n",
       "1/11/21  ...  3118518  26901  77611   1  116983  1515  148171  2105  28596   \n",
       "1/12/21  ...  3164051  27846  77663   1  117299  1520  148968  2107  29757   \n",
       "1/13/21  ...  3211576  28475  77716   1  117811  1521  149769  2109  31100   \n",
       "\n",
       "           271  \n",
       "1/23/20      0  \n",
       "1/24/20      0  \n",
       "1/25/20      0  \n",
       "1/26/20      0  \n",
       "1/27/20      0  \n",
       "...        ...  \n",
       "1/9/21   20499  \n",
       "1/10/21  21477  \n",
       "1/11/21  22297  \n",
       "1/12/21  23239  \n",
       "1/13/21  24256  \n",
       "\n",
       "[357 rows x 272 columns]"
      ]
     },
     "execution_count": 29,
     "metadata": {},
     "output_type": "execute_result"
    }
   ],
   "source": [
    "df_confirmed.T[4:]"
   ]
  },
  {
   "cell_type": "markdown",
   "metadata": {},
   "source": [
    "### all previous day records are added diff() will give us the delta between 2 days and rolling function will smoothen the graph window is the slider, then mean is calculated for that particular window and then the data is truncated "
   ]
  },
  {
   "cell_type": "code",
   "execution_count": 30,
   "metadata": {},
   "outputs": [],
   "source": [
    "def time_data(data,country=\"US\",window=3):\n",
    "    confirm_ts=data\n",
    "    confirm_ts_country=confirm_ts[confirm_ts['Country/Region']==country]\n",
    "    fin=confirm_ts_country.T[4:].sum(axis='columns').diff().rolling(window=window).mean()[40:]\n",
    "    df=pd.DataFrame(fin,columns=[\"Total\"])\n",
    "    return df\n",
    "    "
   ]
  },
  {
   "cell_type": "markdown",
   "metadata": {},
   "source": [
    "### find Overall total for Confirmed , deaths and Recovered "
   ]
  },
  {
   "cell_type": "code",
   "execution_count": 31,
   "metadata": {},
   "outputs": [],
   "source": [
    "def find_tot(df):\n",
    "    return df.iloc[:,-1].sum()\n"
   ]
  },
  {
   "cell_type": "code",
   "execution_count": 32,
   "metadata": {},
   "outputs": [],
   "source": [
    "confirm_total=find_tot(df_confirmed)\n",
    "deaths_total=find_tot(df_deaths)\n",
    "recovered_total=find_tot(df_recovered)"
   ]
  },
  {
   "cell_type": "code",
   "execution_count": 33,
   "metadata": {},
   "outputs": [
    {
     "name": "stdout",
     "output_type": "stream",
     "text": [
      "Total Confirmed cases 92348199\n",
      "Total Deaths 1978614\n",
      "Total Recovered 50994811\n"
     ]
    }
   ],
   "source": [
    "print(\"Total Confirmed cases\",confirm_total)\n",
    "print(\"Total Deaths\",deaths_total)\n",
    "print(\"Total Recovered\",recovered_total)"
   ]
  },
  {
   "cell_type": "markdown",
   "metadata": {},
   "source": [
    "### get total confirmed,deaths,recovered  for a country"
   ]
  },
  {
   "cell_type": "code",
   "execution_count": 34,
   "metadata": {},
   "outputs": [],
   "source": [
    "def country_total(df,country=\"US\"):\n",
    "    return df[df[\"Country/Region\"]==country].iloc[:,-1].sum()\n"
   ]
  },
  {
   "cell_type": "code",
   "execution_count": 35,
   "metadata": {},
   "outputs": [],
   "source": [
    "confirm_country=country_total(df_confirmed,'US')\n",
    "deaths_country=country_total(df_deaths,\"US\")\n",
    "recovered_country=country_total(df_recovered,\"US\")"
   ]
  },
  {
   "cell_type": "code",
   "execution_count": 36,
   "metadata": {},
   "outputs": [
    {
     "name": "stdout",
     "output_type": "stream",
     "text": [
      "US confirmed 23071895\n",
      "US deaths 384653\n",
      "US recovered 0\n"
     ]
    }
   ],
   "source": [
    "print(\"US confirmed\",confirm_country)\n",
    "print(\"US deaths\",deaths_country)\n",
    "print(\"US recovered\",recovered_country)\n"
   ]
  },
  {
   "cell_type": "markdown",
   "metadata": {},
   "source": [
    "### Line Graph using Plotly for confirmed cases"
   ]
  },
  {
   "cell_type": "code",
   "execution_count": 37,
   "metadata": {},
   "outputs": [],
   "source": [
    "# world trend"
   ]
  },
  {
   "cell_type": "code",
   "execution_count": 38,
   "metadata": {},
   "outputs": [],
   "source": [
    "# Confirmed plot 1"
   ]
  },
  {
   "cell_type": "code",
   "execution_count": 39,
   "metadata": {},
   "outputs": [],
   "source": [
    "country=\"US\"\n",
    "df=df_confirmed\n",
    "df=time_data(df_confirmed,country,3)"
   ]
  },
  {
   "cell_type": "code",
   "execution_count": 40,
   "metadata": {},
   "outputs": [],
   "source": [
    "#fig=px.line(df,y='Total',x=df.index,title=\"Daily Confirmed Cases trend for {}\".format(country),height=600,color_discrete_sequence=[\"red\"])\n",
    "#fig.update_layout(title_x=0.5,plot_bgcolor=\"#aa6ae6\",paper_bgcolor='#aa6ae6',xaxis_title=\"Date\",yaxis_title=\"window\")\n"
   ]
  },
  {
   "cell_type": "code",
   "execution_count": 41,
   "metadata": {},
   "outputs": [],
   "source": [
    "def figure_trend(country=\"US\",window=3):\n",
    "    df=time_data(data=df_confirmed,country=country,window=window)\n",
    "    df.head()\n",
    "    if window==1:\n",
    "        yaxis_title=\"Daily Cases\"\n",
    "    else:\n",
    "        yaxis_title=\"Daily Cases ({} Day Moving Average)\".format(window)\n",
    "    fig=px.line(df,y='Total',x=df.index,title=\"Daily Confirmed Cases trend for {}\".format(country),height=600,color_discrete_sequence=[\"red\"])\n",
    "    fig.update_layout(title_x=0.5,plot_bgcolor=\"#aa6ae6\",paper_bgcolor='#aa6ae6',xaxis_title=\"Date\",yaxis_title=yaxis_title)\n",
    "    return fig"
   ]
  },
  {
   "cell_type": "code",
   "execution_count": 42,
   "metadata": {},
   "outputs": [],
   "source": [
    "# Line graph using plotly for deaths"
   ]
  },
  {
   "cell_type": "code",
   "execution_count": 43,
   "metadata": {},
   "outputs": [],
   "source": [
    "def deaths_trend(country=\"US\",window=3):\n",
    "    df=time_data(data=df_deaths,country=country,window=window)\n",
    "    df.head()\n",
    "    if window==1:\n",
    "        yaxis_title=\"Daily Death \"\n",
    "    else:\n",
    "        yaxis_title=\"Daily Deaths ({} Day Moving Average)\".format(window)\n",
    "    fig1=px.line(df,y='Total',x=df.index,title=\"Daily Deaths trend for {}\".format(country),height=600,color_discrete_sequence=[\"red\"])\n",
    "    fig1.update_layout(title_x=0.5,plot_bgcolor=\"#aa6ae6\",paper_bgcolor='#aa6ae6',xaxis_title=\"Date\",yaxis_title=yaxis_title)\n",
    "    return fig1"
   ]
  },
  {
   "cell_type": "code",
   "execution_count": 44,
   "metadata": {},
   "outputs": [],
   "source": [
    "def getpie():\n",
    "    fig = go.Figure(data=[go.Pie(labels=new_df['Country_Region'], values=new_df['Confirmed'], \n",
    "           hole=.35,\n",
    "           textinfo='label+percent'\n",
    "          )])\n",
    "\n",
    "    fig.update_layout(title_text=\"Confirmed Cases Percentage by Countries\", annotations=[dict(text='Confirmed<br>Cases', showarrow=False),])\n",
    "    # Add annotations in the center of the donut pies\n",
    "\n",
    "    fig.update_traces(textposition='inside')\n",
    "    fig.update_layout(margin={\"r\":0,\"l\":0,\"b\":0})\n",
    "    return fig"
   ]
  },
  {
   "cell_type": "code",
   "execution_count": 45,
   "metadata": {},
   "outputs": [],
   "source": [
    "#getpie()"
   ]
  },
  {
   "cell_type": "code",
   "execution_count": 46,
   "metadata": {},
   "outputs": [],
   "source": [
    "def getpiedeath():\n",
    "    fig = go.Figure(data=[go.Pie(labels=new_df['Country_Region'], values=new_df['Deaths'], hole=.35,textinfo='label+percent')])\n",
    "\n",
    "    fig.update_layout(title_text=\"Deaths Cases Percentage by Countries\",\n",
    "    # Add annotations in the center of the donut pies.\n",
    "    annotations=[\n",
    "        dict(text='Deaths<br>Cases', showarrow=False),])\n",
    "    fig.update_traces(textposition='inside')\n",
    "    fig.update_layout(margin={\"r\":0,\"l\":0,\"b\":0})\n",
    "    return fig"
   ]
  },
  {
   "cell_type": "code",
   "execution_count": 47,
   "metadata": {},
   "outputs": [],
   "source": [
    "res=new_df.sort_values(by=\"Confirmed\",ascending=[False]).head(10)"
   ]
  },
  {
   "cell_type": "code",
   "execution_count": null,
   "metadata": {},
   "outputs": [],
   "source": []
  },
  {
   "cell_type": "code",
   "execution_count": 48,
   "metadata": {},
   "outputs": [],
   "source": [
    "def getbar(df):\n",
    "    fig = px.bar(df, x='Country_Region', y='Confirmed',orientation='v',title=\"Top 10 confirmed Cases\")\n",
    "    return fig"
   ]
  },
  {
   "cell_type": "code",
   "execution_count": 49,
   "metadata": {},
   "outputs": [],
   "source": [
    "#getbar(res)"
   ]
  },
  {
   "cell_type": "code",
   "execution_count": 50,
   "metadata": {},
   "outputs": [],
   "source": [
    "#igure_trend()"
   ]
  },
  {
   "cell_type": "code",
   "execution_count": 51,
   "metadata": {},
   "outputs": [],
   "source": [
    "external_stylesheets = [dbc.themes.BOOTSTRAP] #import bootsrap wrapper it gives dashboard a good look"
   ]
  },
  {
   "cell_type": "code",
   "execution_count": 52,
   "metadata": {},
   "outputs": [],
   "source": [
    "app=dash.Dash(__name__,external_stylesheets=external_stylesheets)\n",
    "app.title=\"Dashboard\""
   ]
  },
  {
   "cell_type": "code",
   "execution_count": 53,
   "metadata": {},
   "outputs": [],
   "source": [
    "colors = {\n",
    "    'background': '#4f0aa8',\n",
    "    'bodyColor':'#c5e5f0',\n",
    "    'text': '#0689bd'\n",
    "}\n",
    "\n",
    "\n",
    "def get_page_heading_style():\n",
    "    return {'backgroundColor': colors['background']}\n",
    "\n",
    "\n",
    "def get_page_heading_title():\n",
    "    return html.H1(children='COVID-19 Dashboard',\n",
    "                                        style={\n",
    "                                        'textAlign': 'center',\n",
    "                                        'color': colors['text']\n",
    "                                    })\n",
    "\n",
    "\n",
    "def generate_page_header():\n",
    "    main_header =  dbc.Row(\n",
    "                            [\n",
    "                                dbc.Col(get_page_heading_title(),md=12)\n",
    "                            ],\n",
    "                            align=\"center\",\n",
    "                            style=get_page_heading_style()\n",
    "                        )\n",
    "    \n",
    "    header = (main_header)\n",
    "    return header"
   ]
  },
  {
   "cell_type": "code",
   "execution_count": null,
   "metadata": {},
   "outputs": [],
   "source": []
  },
  {
   "cell_type": "code",
   "execution_count": 54,
   "metadata": {},
   "outputs": [],
   "source": [
    "def get_country_list():\n",
    "    return df_confirmed['Country/Region'].unique()\n",
    "\n",
    "def create_dropdown_list(cntry_list):\n",
    "    dropdown_list = []\n",
    "    for cntry in sorted(cntry_list):\n",
    "        tmp_dict = {'label':cntry,'value':cntry}\n",
    "        dropdown_list.append(tmp_dict)\n",
    "    return dropdown_list\n",
    "\n",
    "def get_country_dropdown(id):\n",
    "    return html.Div([\n",
    "                        html.Label('Select Country'),\n",
    "                        dcc.Dropdown(id='my-id'+str(id),\n",
    "                            options=create_dropdown_list(get_country_list()),\n",
    "                            value='US'\n",
    "                        ),\n",
    "                        html.Div(id='my-div'+str(id))\n",
    "                    ])"
   ]
  },
  {
   "cell_type": "code",
   "execution_count": null,
   "metadata": {},
   "outputs": [],
   "source": []
  },
  {
   "cell_type": "code",
   "execution_count": null,
   "metadata": {},
   "outputs": [],
   "source": []
  },
  {
   "cell_type": "code",
   "execution_count": 55,
   "metadata": {},
   "outputs": [],
   "source": [
    "def graph1():\n",
    "    return dcc.Graph(id='graph1',figure=figure_trend('US'))"
   ]
  },
  {
   "cell_type": "code",
   "execution_count": 56,
   "metadata": {},
   "outputs": [],
   "source": [
    "def generate_card_content(card_header,card_value,overall_value):\n",
    "    card_head_style = {'textAlign':'center','fontSize':'150%'}\n",
    "    card_body_style = {'textAlign':'center','fontSize':'200%'}\n",
    "    card_header = dbc.CardHeader(card_header,style=card_head_style)\n",
    "    card_body = dbc.CardBody(\n",
    "        [\n",
    "            html.H5(f\"{int(card_value):,}\", className=\"card-title\",style=card_body_style),\n",
    "            html.P(\n",
    "                \"Worlwide: {:,}\".format(overall_value),\n",
    "                className=\"card-text\",style={'textAlign':'center'}\n",
    "            ),\n",
    "        ]\n",
    "    )\n",
    "    card = [card_header,card_body]\n",
    "    return card"
   ]
  },
  {
   "cell_type": "code",
   "execution_count": 57,
   "metadata": {},
   "outputs": [],
   "source": [
    "def generate_cards(cntry='US'):\n",
    "    conf_cntry_total = country_total(df_confirmed,cntry)\n",
    "    dead_cntry_total = country_total(df_deaths,cntry)\n",
    "    recv_cntry_total = country_total(df_recovered,cntry)\n",
    "    cards = html.Div(\n",
    "        [\n",
    "            dbc.Row(\n",
    "                [\n",
    "                    dbc.Col(dbc.Card(generate_card_content(\"Recovered\",recv_cntry_total,recovered_total), color=\"success\", inverse=True),md=dict(size=2,offset=3)),\n",
    "                    dbc.Col(dbc.Card(generate_card_content(\"Confirmed\",conf_cntry_total,confirm_total), color=\"warning\", inverse=True),md=dict(size=2)),\n",
    "                    dbc.Col(dbc.Card(generate_card_content(\"Dead\",dead_cntry_total,deaths_total),color=\"dark\", inverse=True),md=dict(size=2)),\n",
    "                ],\n",
    "                className=\"mb-4\",\n",
    "            ),\n",
    "        ],id='card1'\n",
    "    )\n",
    "    return cards"
   ]
  },
  {
   "cell_type": "code",
   "execution_count": 58,
   "metadata": {},
   "outputs": [],
   "source": [
    "def get_slider():\n",
    "    return html.Div([  \n",
    "                        dcc.Slider(\n",
    "                            id='my-slider',\n",
    "                            min=1,\n",
    "                            max=15,\n",
    "                            step=None,\n",
    "                            marks={\n",
    "                                1: '1',\n",
    "                                3: '3',\n",
    "                                5: '5',\n",
    "                                7: '1-Week',\n",
    "                                14: 'Fortnight'\n",
    "                            },\n",
    "                            value=3,\n",
    "                        ),\n",
    "                        html.Div([html.Label('Select Moving Average Window')],id='my-div'+str(id),style={'textAlign':'center'})\n",
    "                    ])"
   ]
  },
  {
   "cell_type": "code",
   "execution_count": 59,
   "metadata": {},
   "outputs": [],
   "source": [
    "def graph2():\n",
    "    return dcc.Graph(id='graph2',figure=deaths_trend('US'))"
   ]
  },
  {
   "cell_type": "code",
   "execution_count": 60,
   "metadata": {},
   "outputs": [],
   "source": [
    "def graph3():\n",
    "    return dcc.Graph(id='graph3',figure=getpie())"
   ]
  },
  {
   "cell_type": "code",
   "execution_count": 61,
   "metadata": {},
   "outputs": [],
   "source": [
    "def graph4():\n",
    "    return dcc.Graph(id=\"graph4\",figure=getpiedeath())"
   ]
  },
  {
   "cell_type": "code",
   "execution_count": 62,
   "metadata": {},
   "outputs": [],
   "source": [
    "def graph5():\n",
    "    return dcc.Graph(id=\"graph5\",figure=getbar(res))"
   ]
  },
  {
   "cell_type": "code",
   "execution_count": null,
   "metadata": {},
   "outputs": [],
   "source": []
  },
  {
   "cell_type": "code",
   "execution_count": 63,
   "metadata": {},
   "outputs": [],
   "source": [
    "def generate_layout():\n",
    "    page_header = generate_page_header()\n",
    "    layout = dbc.Container(\n",
    "        [\n",
    "            page_header,\n",
    "            html.Hr(),\n",
    "            generate_cards(),\n",
    "            html.Hr(),\n",
    "            dbc.Row(\n",
    "                [\n",
    "                    dbc.Col(get_country_dropdown(id=1),md=dict(size=4,offset=4))                    \n",
    "                ]\n",
    "            \n",
    "            ),\n",
    "            dbc.Row(\n",
    "                [                \n",
    "                    \n",
    "                    dbc.Col(graph1(),md=dict(size=6,offset=3))\n",
    "        \n",
    "                ],\n",
    "                align=\"center\",\n",
    "\n",
    "            ),\n",
    "            dbc.Row(\n",
    "                [\n",
    "                    dbc.Col(get_slider(),md=dict(size=4,offset=4))                    \n",
    "                ]\n",
    "             ),\n",
    "            dbc.Row(\n",
    "            [\n",
    "                dbc.Col(graph2(),md=dict(size=6,offset=3))\n",
    "            ]\n",
    "            ),\n",
    "            dbc.Row(\n",
    "            [\n",
    "                dbc.Col(graph3(),md=dict(size=7,offset=3))\n",
    "            ]\n",
    "            ),\n",
    "            dbc.Row(\n",
    "            [\n",
    "                dbc.Col(graph4(),md=dict(size=7,offset=3))\n",
    "            ]\n",
    "            ),\n",
    "            dbc.Row(\n",
    "            [\n",
    "                dbc.Col(graph5(),md=dict(size=7,offset=3))\n",
    "            ]\n",
    "            ),\n",
    "        ],fluid=True,style={'backgroundColor': colors['bodyColor']}\n",
    "    )\n",
    "    return layout"
   ]
  },
  {
   "cell_type": "code",
   "execution_count": 64,
   "metadata": {},
   "outputs": [],
   "source": [
    "app.layout = generate_layout()"
   ]
  },
  {
   "cell_type": "code",
   "execution_count": 65,
   "metadata": {},
   "outputs": [],
   "source": [
    "@app.callback(\n",
    "    [Output(component_id='graph1',component_property='figure'), #line chart\n",
    "    Output(component_id='card1',component_property='children')\n",
    "    ],#overall card numbers\n",
    "    \n",
    "    \n",
    "    [Input(component_id='my-id1',component_property='value'), #dropdown\n",
    "     Input(component_id='my-slider',component_property='value')\n",
    "    ]\n",
    "    \n",
    " \n",
    ")\n",
    "def update_output_div(input_value1,input_value2):\n",
    "    return figure_trend(input_value1,input_value2),generate_cards(input_value1)\n",
    "\n",
    "def update_output_div2(input_value3):\n",
    "    return deaths_trend(input_value3)\n",
    "\n",
    "  "
   ]
  },
  {
   "cell_type": "code",
   "execution_count": 66,
   "metadata": {
    "scrolled": true
   },
   "outputs": [
    {
     "name": "stdout",
     "output_type": "stream",
     "text": [
      " * Serving Flask app \"__main__\" (lazy loading)\n",
      " * Environment: production\n",
      "   WARNING: This is a development server. Do not use it in a production deployment.\n",
      "   Use a production WSGI server instead.\n",
      " * Debug mode: off\n"
     ]
    },
    {
     "name": "stderr",
     "output_type": "stream",
     "text": [
      " * Running on http://127.0.0.1:8050/ (Press CTRL+C to quit)\n",
      "127.0.0.1 - - [14/Jan/2021 17:24:08] \"\u001b[37mGET / HTTP/1.1\u001b[0m\" 200 -\n",
      "127.0.0.1 - - [14/Jan/2021 17:24:09] \"\u001b[37mGET /_dash-dependencies HTTP/1.1\u001b[0m\" 200 -\n",
      "127.0.0.1 - - [14/Jan/2021 17:24:09] \"\u001b[37mGET /_dash-layout HTTP/1.1\u001b[0m\" 200 -\n",
      "127.0.0.1 - - [14/Jan/2021 17:24:09] \"\u001b[37mPOST /_dash-update-component HTTP/1.1\u001b[0m\" 200 -\n"
     ]
    }
   ],
   "source": [
    "app.run_server(debug=False)"
   ]
  },
  {
   "cell_type": "code",
   "execution_count": null,
   "metadata": {},
   "outputs": [],
   "source": []
  },
  {
   "cell_type": "code",
   "execution_count": null,
   "metadata": {},
   "outputs": [],
   "source": []
  },
  {
   "cell_type": "code",
   "execution_count": null,
   "metadata": {},
   "outputs": [],
   "source": []
  },
  {
   "cell_type": "code",
   "execution_count": null,
   "metadata": {},
   "outputs": [],
   "source": []
  },
  {
   "cell_type": "code",
   "execution_count": null,
   "metadata": {},
   "outputs": [],
   "source": []
  },
  {
   "cell_type": "code",
   "execution_count": null,
   "metadata": {},
   "outputs": [],
   "source": []
  },
  {
   "cell_type": "code",
   "execution_count": null,
   "metadata": {},
   "outputs": [],
   "source": []
  },
  {
   "cell_type": "code",
   "execution_count": null,
   "metadata": {},
   "outputs": [],
   "source": []
  },
  {
   "cell_type": "code",
   "execution_count": null,
   "metadata": {},
   "outputs": [],
   "source": []
  },
  {
   "cell_type": "code",
   "execution_count": null,
   "metadata": {},
   "outputs": [],
   "source": []
  },
  {
   "cell_type": "code",
   "execution_count": null,
   "metadata": {},
   "outputs": [],
   "source": []
  },
  {
   "cell_type": "code",
   "execution_count": null,
   "metadata": {},
   "outputs": [],
   "source": []
  },
  {
   "cell_type": "code",
   "execution_count": null,
   "metadata": {},
   "outputs": [],
   "source": []
  },
  {
   "cell_type": "code",
   "execution_count": null,
   "metadata": {},
   "outputs": [],
   "source": []
  },
  {
   "cell_type": "code",
   "execution_count": null,
   "metadata": {},
   "outputs": [],
   "source": []
  },
  {
   "cell_type": "code",
   "execution_count": null,
   "metadata": {},
   "outputs": [],
   "source": []
  },
  {
   "cell_type": "code",
   "execution_count": null,
   "metadata": {},
   "outputs": [],
   "source": []
  },
  {
   "cell_type": "code",
   "execution_count": null,
   "metadata": {},
   "outputs": [],
   "source": []
  },
  {
   "cell_type": "code",
   "execution_count": null,
   "metadata": {},
   "outputs": [],
   "source": []
  },
  {
   "cell_type": "code",
   "execution_count": null,
   "metadata": {},
   "outputs": [],
   "source": []
  },
  {
   "cell_type": "code",
   "execution_count": null,
   "metadata": {},
   "outputs": [],
   "source": []
  }
 ],
 "metadata": {
  "kernelspec": {
   "display_name": "Python 3",
   "language": "python",
   "name": "python3"
  },
  "language_info": {
   "codemirror_mode": {
    "name": "ipython",
    "version": 3
   },
   "file_extension": ".py",
   "mimetype": "text/x-python",
   "name": "python",
   "nbconvert_exporter": "python",
   "pygments_lexer": "ipython3",
   "version": "3.7.6"
  }
 },
 "nbformat": 4,
 "nbformat_minor": 4
}
